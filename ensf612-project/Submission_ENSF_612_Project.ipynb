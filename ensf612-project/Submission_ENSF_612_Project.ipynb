{
  "nbformat": 4,
  "nbformat_minor": 0,
  "metadata": {
    "colab": {
      "provenance": []
    },
    "kernelspec": {
      "name": "python3",
      "display_name": "Python 3"
    },
    "language_info": {
      "name": "python"
    }
  },
  "cells": [
    {
      "cell_type": "markdown",
      "source": [
        "Google Collab for 612 final project with reddit climate change dataset."
      ],
      "metadata": {
        "id": "lDmVU5aNbzNz"
      }
    },
    {
      "cell_type": "code",
      "execution_count": 98,
      "metadata": {
        "colab": {
          "base_uri": "https://localhost:8080/"
        },
        "id": "mOKIQC0KTaGN",
        "outputId": "126ddb41-d8bb-45bd-f11f-cb8123de2f68"
      },
      "outputs": [
        {
          "output_type": "stream",
          "name": "stdout",
          "text": [
            "--2023-12-15 03:56:31--  http://setup.johnsnowlabs.com/colab.sh\n",
            "Resolving setup.johnsnowlabs.com (setup.johnsnowlabs.com)... 51.158.130.125\n",
            "Connecting to setup.johnsnowlabs.com (setup.johnsnowlabs.com)|51.158.130.125|:80... connected.\n",
            "HTTP request sent, awaiting response... 302 Moved Temporarily\n",
            "Location: https://raw.githubusercontent.com/JohnSnowLabs/spark-nlp/master/scripts/colab_setup.sh [following]\n",
            "--2023-12-15 03:56:31--  https://raw.githubusercontent.com/JohnSnowLabs/spark-nlp/master/scripts/colab_setup.sh\n",
            "Resolving raw.githubusercontent.com (raw.githubusercontent.com)... 185.199.109.133, 185.199.108.133, 185.199.111.133, ...\n",
            "Connecting to raw.githubusercontent.com (raw.githubusercontent.com)|185.199.109.133|:443... connected.\n",
            "HTTP request sent, awaiting response... 200 OK\n",
            "Length: 1191 (1.2K) [text/plain]\n",
            "Saving to: ‘STDOUT’\n",
            "\n",
            "-                   100%[===================>]   1.16K  --.-KB/s    in 0s      \n",
            "\n",
            "2023-12-15 03:56:31 (27.3 MB/s) - written to stdout [1191/1191]\n",
            "\n",
            "Installing PySpark 3.2.3 and Spark NLP 5.2.0\n",
            "setup Colab for PySpark 3.2.3 and Spark NLP 5.2.0\n"
          ]
        }
      ],
      "source": [
        "!wget http://setup.johnsnowlabs.com/colab.sh -O - | bash"
      ]
    },
    {
      "cell_type": "code",
      "source": [
        "import sparknlp\n",
        "spark = sparknlp.start(gpu=True)\n",
        "\n",
        "print(\"Spark NLP version: {}\".format(sparknlp.version()))\n",
        "print(\"Apache Spark version: {}\".format(spark.version))"
      ],
      "metadata": {
        "id": "lTWWSpDeUe_S",
        "colab": {
          "base_uri": "https://localhost:8080/"
        },
        "outputId": "fdb7969b-5b45-4297-a7d5-8b491c96064a"
      },
      "execution_count": 99,
      "outputs": [
        {
          "output_type": "stream",
          "name": "stdout",
          "text": [
            "Warning::Spark Session already created, some configs may not take.\n",
            "Spark NLP version: 5.2.0\n",
            "Apache Spark version: 3.2.3\n"
          ]
        }
      ]
    },
    {
      "cell_type": "code",
      "source": [
        "from google.colab import drive\n",
        "drive.mount('/content/drive')\n",
        "\n",
        "# !ls \"/content/drive/My Drive/Colab Notebooks\""
      ],
      "metadata": {
        "colab": {
          "base_uri": "https://localhost:8080/"
        },
        "id": "EmjUDo5YZ3zV",
        "outputId": "5629de8b-594d-4ea7-e5fa-26c6ced749bc"
      },
      "execution_count": 100,
      "outputs": [
        {
          "output_type": "stream",
          "name": "stdout",
          "text": [
            "Drive already mounted at /content/drive; to attempt to forcibly remount, call drive.mount(\"/content/drive\", force_remount=True).\n"
          ]
        }
      ]
    },
    {
      "cell_type": "markdown",
      "source": [
        "Import of reddit climate change comment dataset from google drive."
      ],
      "metadata": {
        "id": "ZBTg-QUQcPDI"
      }
    },
    {
      "cell_type": "code",
      "source": [
        "df = spark.read.csv(\"/content/drive/My Drive/Colab Notebooks/the-reddit-climate-change-dataset-comments.csv\", header=True, inferSchema=True, escape='\"', multiLine = True)\n",
        "\n",
        "print(\"The number of rows in the dataset is: \", df.count())\n",
        "\n",
        "df.show(5)\n"
      ],
      "metadata": {
        "id": "6N5Jb4H_Vv77",
        "colab": {
          "base_uri": "https://localhost:8080/"
        },
        "outputId": "5945a7c6-f887-4b88-c97f-1413d3c235a7"
      },
      "execution_count": 101,
      "outputs": [
        {
          "output_type": "stream",
          "name": "stdout",
          "text": [
            "The number of rows in the dataset is:  4600698\n",
            "+-------+-------+------------+--------------+--------------+-----------+--------------------+--------------------+---------+-----+\n",
            "|   type|     id|subreddit.id|subreddit.name|subreddit.nsfw|created_utc|           permalink|                body|sentiment|score|\n",
            "+-------+-------+------------+--------------+--------------+-----------+--------------------+--------------------+---------+-----+\n",
            "|comment|imlddn9|       2qh3l|          news|         false| 1661990368|https://old.reddi...|Yeah but what the...|   0.5719|    2|\n",
            "|comment|imldbeh|       2qn7b|          ohio|         false| 1661990340|https://old.reddi...|Any comparison of...|  -0.9877|    2|\n",
            "|comment|imldado|       2qhma|    newzealand|         false| 1661990327|https://old.reddi...|I'm honestly wait...|  -0.1143|    1|\n",
            "|comment|imld6cb|       2qi09|    sacramento|         false| 1661990278|https://old.reddi...|Not just Sacramen...|      0.0|    4|\n",
            "|comment|imld0kj|       2qh1i|     askreddit|         false| 1661990206|https://old.reddi...|I think climate c...|   0.6634|    1|\n",
            "+-------+-------+------------+--------------+--------------+-----------+--------------------+--------------------+---------+-----+\n",
            "only showing top 5 rows\n",
            "\n"
          ]
        }
      ]
    },
    {
      "cell_type": "markdown",
      "source": [
        "Data Preprocessing (Check duplicates, nulls etc.)."
      ],
      "metadata": {
        "id": "uq5BDJHBcZjO"
      }
    },
    {
      "cell_type": "code",
      "source": [
        "from pyspark.sql.functions import col, count\n",
        "\n",
        "# Since the id is a unique identifier if there is a duplicate it means the row needs to be removed\n",
        "\n",
        "# Group by 'id' and count the occurrences\n",
        "id_counts = df.groupBy(\"id\").agg(count(\"id\").alias(\"count\"))\n",
        "\n",
        "# Filter out the ids that occur only once\n",
        "duplicates = id_counts.filter(col(\"count\") > 1)\n",
        "\n",
        "# Count the number of duplicated ids\n",
        "num_duplicates = duplicates.count()\n",
        "\n",
        "# If num_duplicates = 0, we have made sure there are no duplicates and the data has been cleaned\n",
        "print(f\"Number of duplicated ids: {num_duplicates}\")"
      ],
      "metadata": {
        "colab": {
          "base_uri": "https://localhost:8080/"
        },
        "id": "rU8UUidOU_JO",
        "outputId": "ad1b2ca8-50b3-4812-8478-3a613c128140"
      },
      "execution_count": 102,
      "outputs": [
        {
          "output_type": "stream",
          "name": "stdout",
          "text": [
            "Number of duplicated ids: 0\n"
          ]
        }
      ]
    },
    {
      "cell_type": "code",
      "source": [
        "# Check for null values in each column\n",
        "\n",
        "feature_cols = ['sentiment','score']\n",
        "\n",
        "for col_name in feature_cols:\n",
        "    null_count = df.filter(col(col_name).isNull()).count()\n",
        "    if null_count > 0:\n",
        "        print(f\"Column {col_name} has {null_count} null values\")\n",
        "\n",
        "# Handle null values, for example, by dropping rows with nulls\n",
        "df = df.na.drop(subset=feature_cols)"
      ],
      "metadata": {
        "colab": {
          "base_uri": "https://localhost:8080/"
        },
        "id": "ZXP06UrLU9DR",
        "outputId": "2da40fd0-2b44-4f53-9c1d-a90fa1302f7c"
      },
      "execution_count": 103,
      "outputs": [
        {
          "output_type": "stream",
          "name": "stdout",
          "text": [
            "Column sentiment has 57131 null values\n"
          ]
        }
      ]
    },
    {
      "cell_type": "code",
      "source": [
        "df = df.drop(\"subreddit.id\", \"subreddit.name\", \"subreddit.nsfw\", \"id\", \"type\", \"permalink\")\n",
        "df.show(1)"
      ],
      "metadata": {
        "colab": {
          "base_uri": "https://localhost:8080/"
        },
        "id": "LlwdHOVnlOOp",
        "outputId": "05e08fb8-4b50-47d4-ae8c-1ab91f65758d"
      },
      "execution_count": 104,
      "outputs": [
        {
          "output_type": "stream",
          "name": "stdout",
          "text": [
            "+-----------+--------------------+---------+-----+\n",
            "|created_utc|                body|sentiment|score|\n",
            "+-----------+--------------------+---------+-----+\n",
            "| 1661990368|Yeah but what the...|   0.5719|    2|\n",
            "+-----------+--------------------+---------+-----+\n",
            "only showing top 1 row\n",
            "\n"
          ]
        }
      ]
    },
    {
      "cell_type": "markdown",
      "source": [
        "Some EDA."
      ],
      "metadata": {
        "id": "cC_as5vdcoOq"
      }
    },
    {
      "cell_type": "code",
      "source": [
        "from pyspark.sql.functions import mean\n",
        "\n",
        "# Calculate the mean score\n",
        "mean_score = df.select(mean('score')).collect()[0][0]\n",
        "\n",
        "print(f\"The mean score is: {mean_score}\")"
      ],
      "metadata": {
        "colab": {
          "base_uri": "https://localhost:8080/"
        },
        "id": "JmqhRTQJVBw8",
        "outputId": "32d708ef-bb0c-401a-9353-1998df2e4c05"
      },
      "execution_count": 105,
      "outputs": [
        {
          "output_type": "stream",
          "name": "stdout",
          "text": [
            "The mean score is: 9.594097324855118\n"
          ]
        }
      ]
    },
    {
      "cell_type": "code",
      "source": [
        "# Calculate the mean sentiment\n",
        "mean_sentiment = df.select(mean('sentiment')).collect()[0]\n",
        "\n",
        "mean_sentiment_value = mean_sentiment[0]\n",
        "\n",
        "print(f\"The mean sentiment is: {mean_sentiment_value}\")"
      ],
      "metadata": {
        "colab": {
          "base_uri": "https://localhost:8080/"
        },
        "id": "KF5C4TUWWprw",
        "outputId": "f547d324-4254-4103-dd4b-5cf122506416"
      },
      "execution_count": 106,
      "outputs": [
        {
          "output_type": "stream",
          "name": "stdout",
          "text": [
            "The mean sentiment is: -0.005827451977706207\n"
          ]
        }
      ]
    },
    {
      "cell_type": "code",
      "source": [
        "from pyspark.sql.functions import from_unixtime\n",
        "\n",
        "df = df.withColumn('created_datetime', from_unixtime('created_utc'))\n",
        "df.show(5)"
      ],
      "metadata": {
        "colab": {
          "base_uri": "https://localhost:8080/"
        },
        "id": "5sjn2wBRWs7N",
        "outputId": "8f541255-24b7-4e4f-f36e-709e5530850d"
      },
      "execution_count": 107,
      "outputs": [
        {
          "output_type": "stream",
          "name": "stdout",
          "text": [
            "+-----------+--------------------+---------+-----+-------------------+\n",
            "|created_utc|                body|sentiment|score|   created_datetime|\n",
            "+-----------+--------------------+---------+-----+-------------------+\n",
            "| 1661990368|Yeah but what the...|   0.5719|    2|2022-08-31 23:59:28|\n",
            "| 1661990340|Any comparison of...|  -0.9877|    2|2022-08-31 23:59:00|\n",
            "| 1661990327|I'm honestly wait...|  -0.1143|    1|2022-08-31 23:58:47|\n",
            "| 1661990278|Not just Sacramen...|      0.0|    4|2022-08-31 23:57:58|\n",
            "| 1661990206|I think climate c...|   0.6634|    1|2022-08-31 23:56:46|\n",
            "+-----------+--------------------+---------+-----+-------------------+\n",
            "only showing top 5 rows\n",
            "\n"
          ]
        }
      ]
    },
    {
      "cell_type": "code",
      "source": [
        "from pyspark.sql.functions import to_date\n",
        "import matplotlib.pyplot as plt\n",
        "import pandas as pd\n",
        "\n",
        "# Convert 'created_datetime' to a date format (without time)\n",
        "df = df.withColumn('date', to_date('created_datetime'))\n",
        "\n",
        "# Aggregate the data by date\n",
        "df_agg = df.groupBy('date').agg({'score': 'mean', 'sentiment': 'mean'}).toDF('date', 'avg_score', 'avg_sentiment')\n",
        "\n",
        "# Convert to Pandas DataFrame for plotting\n",
        "pandas_df = df_agg.toPandas()\n",
        "\n",
        "# Sorting by date for better visualization\n",
        "pandas_df.sort_values(by='date', inplace=True)\n",
        "\n",
        "# Plotting 'date created vs score'\n",
        "plt.figure(figsize=(10, 6))\n",
        "plt.plot(pandas_df['date'], pandas_df['avg_score'], marker='o')\n",
        "plt.xlabel('Date Created')\n",
        "plt.ylabel('Average Score')\n",
        "plt.title('Date Created vs Average Score')\n",
        "plt.tight_layout()\n",
        "plt.show()\n",
        "\n",
        "# Plotting 'date created vs sentiment'\n",
        "plt.figure(figsize=(10, 6))\n",
        "plt.plot(pandas_df['date'], pandas_df['avg_sentiment'], marker='o', color='green')\n",
        "plt.xlabel('Date Created')\n",
        "plt.ylabel('Average Sentiment')\n",
        "plt.title('Date Created vs Average Sentiment')\n",
        "plt.xticks(rotation=45)\n",
        "plt.tight_layout()\n",
        "plt.show()"
      ],
      "metadata": {
        "colab": {
          "base_uri": "https://localhost:8080/",
          "height": 1000
        },
        "id": "H82ATeQLWved",
        "outputId": "55822dca-9c04-4179-cd9e-6e00b6057f4c"
      },
      "execution_count": 108,
      "outputs": [
        {
          "output_type": "display_data",
          "data": {
            "text/plain": [
              "<Figure size 1000x600 with 1 Axes>"
            ],
            "image/png": "[encoded data removed]"
          },
          "metadata": {}
        },
        {
          "output_type": "display_data",
          "data": {
            "text/plain": [
              "<Figure size 1000x600 with 1 Axes>"
            ],
            "image/png": "[encoded data removed]"
          },
          "metadata": {}
        }
      ]
    },
    {
      "cell_type": "markdown",
      "source": [
        "Testing of models."
      ],
      "metadata": {
        "id": "SVeAmH0hcuiH"
      }
    },
    {
      "cell_type": "markdown",
      "source": [
        "Tested linear regression, random forest regression and gradient boosted regression models with sentiment as feature and score as target. Results were very poor (r2 of 0)."
      ],
      "metadata": {
        "id": "SrX1ndrAcyWq"
      }
    },
    {
      "cell_type": "code",
      "source": [
        "#added to speed up running of notebook, tried models with full dataset and still got very poor results\n",
        "df = df.limit(1000)"
      ],
      "metadata": {
        "id": "79-g1CXYil5S"
      },
      "execution_count": 109,
      "outputs": []
    },
    {
      "cell_type": "code",
      "source": [
        "from pyspark.ml.evaluation import RegressionEvaluator\n",
        "from pyspark.ml.regression import LinearRegression\n",
        "from pyspark.ml.feature import VectorAssembler\n",
        "from pyspark.ml import Pipeline\n",
        "\n",
        "# Assembler to convert features into a vector\n",
        "assembler = VectorAssembler(inputCols=['sentiment'], outputCol='features')\n",
        "model_df = assembler.transform(df)\n",
        "\n",
        "(training_data, test_data) = model_df.randomSplit([0.8, 0.2], seed=1234)\n",
        "\n",
        "# Linear Regression model\n",
        "lr = LinearRegression(featuresCol='features', labelCol='score')\n",
        "\n",
        "# Fit the model to the training data\n",
        "lr_model = lr.fit(training_data)\n",
        "\n",
        "# Make predictions on the test data\n",
        "predictions = lr_model.transform(test_data)\n",
        "\n",
        "# Evaluate the model using RMSE and R2\n",
        "evaluator_rmse = RegressionEvaluator(labelCol=\"score\", predictionCol=\"prediction\", metricName=\"rmse\")\n",
        "evaluator_r2 = RegressionEvaluator(labelCol=\"score\", predictionCol=\"prediction\", metricName=\"r2\")\n",
        "\n",
        "# Compute RMSE and R2 on test data\n",
        "rmse = evaluator_rmse.evaluate(predictions)\n",
        "r2 = evaluator_r2.evaluate(predictions)\n",
        "\n",
        "print(f\"Root Mean Squared Error (RMSE) on test data = {rmse}\")\n",
        "print(f\"R2 on test data = {r2}\")"
      ],
      "metadata": {
        "colab": {
          "base_uri": "https://localhost:8080/"
        },
        "id": "3tyGnNNcYNX5",
        "outputId": "0d62f708-a573-4e52-8dd4-a490bb08062d"
      },
      "execution_count": 110,
      "outputs": [
        {
          "output_type": "stream",
          "name": "stdout",
          "text": [
            "Root Mean Squared Error (RMSE) on test data = 18.239790353485525\n",
            "R2 on test data = -0.035734050998866396\n"
          ]
        }
      ]
    },
    {
      "cell_type": "code",
      "source": [
        "from pyspark.ml.regression import RandomForestRegressor\n",
        "\n",
        "# Random Forest Regression model\n",
        "rf = RandomForestRegressor(featuresCol='features', labelCol='score')\n",
        "\n",
        "# Fit the model to the training data\n",
        "rf_model = rf.fit(training_data)\n",
        "\n",
        "# Make predictions on the test data\n",
        "rf_predictions = rf_model.transform(test_data)\n",
        "\n",
        "# Evaluate the model using RMSE and R2\n",
        "evaluator_rmse = RegressionEvaluator(labelCol=\"score\", predictionCol=\"prediction\", metricName=\"rmse\")\n",
        "evaluator_r2 = RegressionEvaluator(labelCol=\"score\", predictionCol=\"prediction\", metricName=\"r2\")\n",
        "\n",
        "# Compute RMSE and R2 on test data\n",
        "rmse = evaluator_rmse.evaluate(rf_predictions)\n",
        "r2 = evaluator_r2.evaluate(rf_predictions)\n",
        "\n",
        "print(f\"Root Mean Squared Error (RMSE) on test data = {rmse}\")\n",
        "print(f\"R2 on test data = {r2}\")"
      ],
      "metadata": {
        "colab": {
          "base_uri": "https://localhost:8080/"
        },
        "id": "k_YhVOB1YR5J",
        "outputId": "c7713690-0a1e-4334-a2e2-4df1df292440"
      },
      "execution_count": 111,
      "outputs": [
        {
          "output_type": "stream",
          "name": "stdout",
          "text": [
            "Root Mean Squared Error (RMSE) on test data = 21.638618230058967\n",
            "R2 on test data = -0.45769820609662926\n"
          ]
        }
      ]
    },
    {
      "cell_type": "code",
      "source": [
        "from pyspark.ml.regression import GBTRegressor\n",
        "\n",
        "# Gradient Boosted Tree model\n",
        "gbt = GBTRegressor(featuresCol='features', labelCol='score')\n",
        "\n",
        "# Fit the model to the training data\n",
        "gbt_model = gbt.fit(training_data)\n",
        "\n",
        "# Make predictions on the test data\n",
        "gbt_predictions = gbt_model.transform(test_data)\n",
        "\n",
        "# Evaluate the model using RMSE and R2\n",
        "evaluator_rmse = RegressionEvaluator(labelCol=\"score\", predictionCol=\"prediction\", metricName=\"rmse\")\n",
        "evaluator_r2 = RegressionEvaluator(labelCol=\"score\", predictionCol=\"prediction\", metricName=\"r2\")\n",
        "\n",
        "# Compute RMSE and R2 on test data\n",
        "rmse = evaluator_rmse.evaluate(gbt_predictions)\n",
        "r2 = evaluator_r2.evaluate(gbt_predictions)\n",
        "\n",
        "print(f\"Root Mean Squared Error (RMSE) on test data = {rmse}\")\n",
        "print(f\"R2 on test data = {r2}\")"
      ],
      "metadata": {
        "colab": {
          "base_uri": "https://localhost:8080/"
        },
        "id": "jzyMcEvgYtfK",
        "outputId": "6cf1e0a7-6557-4862-f6f4-65c6de804be7"
      },
      "execution_count": 112,
      "outputs": [
        {
          "output_type": "stream",
          "name": "stdout",
          "text": [
            "Root Mean Squared Error (RMSE) on test data = 21.531875148977125\n",
            "R2 on test data = -0.4433520577857608\n"
          ]
        }
      ]
    },
    {
      "cell_type": "markdown",
      "source": [
        "Tested linear regression, random forest regression and gradient boosted regression models with created_utc as feature and score as target. Results were very poor (r2 of 0)."
      ],
      "metadata": {
        "id": "V6lpPbq1dToV"
      }
    },
    {
      "cell_type": "code",
      "source": [
        "# Vector Assembler to create a feature vector\n",
        "vector_assembler = VectorAssembler(inputCols=[\"created_utc\"], outputCol=\"features\")\n",
        "time_model_df = vector_assembler.transform(df)\n",
        "\n",
        "# Split the data into training and testing sets\n",
        "total_rows = time_model_df.count()\n",
        "split_percentage = 0.8\n",
        "split_index = int(total_rows * split_percentage)\n",
        "split_timestamp = time_model_df.orderBy(\"created_datetime\").collect()[split_index][\"created_datetime\"]\n",
        "\n",
        "# Split the data based on the timestamp\n",
        "training_data = time_model_df.filter(col(\"created_datetime\") < split_timestamp)\n",
        "test_data = time_model_df.filter(col(\"created_datetime\") >= split_timestamp)\n",
        "\n",
        "# Create a Linear Regression model\n",
        "lr = LinearRegression(featuresCol=\"features\", labelCol=\"score\")\n",
        "\n",
        "# Fit the model to the training data\n",
        "lr_model = lr.fit(training_data)\n",
        "\n",
        "# Make predictions on the test data\n",
        "predictions = lr_model.transform(test_data)\n",
        "\n",
        "# Evaluate the model\n",
        "evaluator = RegressionEvaluator(labelCol=\"score\", predictionCol=\"prediction\", metricName=\"rmse\")\n",
        "rmse = evaluator.evaluate(predictions)\n",
        "evaluator = RegressionEvaluator(labelCol=\"score\", predictionCol=\"prediction\", metricName=\"r2\")\n",
        "r2 = evaluator.evaluate(predictions)\n",
        "print(\"Root Mean Squared Error (RMSE) on test data = %g\" % rmse)\n",
        "print(\"R2 on test data = %g\" % r2)"
      ],
      "metadata": {
        "colab": {
          "base_uri": "https://localhost:8080/"
        },
        "id": "z46-ZyNkZJQq",
        "outputId": "4d89f40b-ea33-41e4-ec78-9e87f9098f20"
      },
      "execution_count": 113,
      "outputs": [
        {
          "output_type": "stream",
          "name": "stdout",
          "text": [
            "Root Mean Squared Error (RMSE) on test data = 51.8922\n",
            "R2 on test data = -0.00155581\n"
          ]
        }
      ]
    },
    {
      "cell_type": "code",
      "source": [
        "\n",
        "# Random Forest Regressor model\n",
        "rf = RandomForestRegressor(featuresCol='features', labelCol='score')\n",
        "\n",
        "# Fit the model to the training data\n",
        "rf_model = rf.fit(training_data)\n",
        "\n",
        "# Make predictions on the test data\n",
        "rf_predictions = rf_model.transform(test_data)\n",
        "\n",
        "# Evaluate the model using RMSE and R2\n",
        "evaluator_rmse = RegressionEvaluator(labelCol=\"score\", predictionCol=\"prediction\", metricName=\"rmse\")\n",
        "evaluator_r2 = RegressionEvaluator(labelCol=\"score\", predictionCol=\"prediction\", metricName=\"r2\")\n",
        "\n",
        "# Compute RMSE and R2 on test data\n",
        "rmse = evaluator_rmse.evaluate(rf_predictions)\n",
        "r2 = evaluator_r2.evaluate(rf_predictions)\n",
        "\n",
        "print(f\"Root Mean Squared Error (RMSE) on test data = {rmse}\")\n",
        "print(f\"R2 on test data = {r2}\")"
      ],
      "metadata": {
        "colab": {
          "base_uri": "https://localhost:8080/"
        },
        "id": "qlkLpYFwZft1",
        "outputId": "c66b8eb5-d817-4f4d-8737-a9ceea4f4437"
      },
      "execution_count": 114,
      "outputs": [
        {
          "output_type": "stream",
          "name": "stdout",
          "text": [
            "Root Mean Squared Error (RMSE) on test data = 51.85291329421951\n",
            "R2 on test data = -4.0110624484945845e-05\n"
          ]
        }
      ]
    },
    {
      "cell_type": "code",
      "source": [
        "\n",
        "# Gradient Boosted Tree model\n",
        "gbt = GBTRegressor(featuresCol='features', labelCol='score')\n",
        "\n",
        "# Fit the model to the training data\n",
        "gbt_model = gbt.fit(training_data)\n",
        "\n",
        "# Make predictions on the test data\n",
        "gbt_predictions = gbt_model.transform(test_data)\n",
        "\n",
        "# Evaluate the model using RMSE and R2\n",
        "evaluator_rmse = RegressionEvaluator(labelCol=\"score\", predictionCol=\"prediction\", metricName=\"rmse\")\n",
        "evaluator_r2 = RegressionEvaluator(labelCol=\"score\", predictionCol=\"prediction\", metricName=\"r2\")\n",
        "\n",
        "# Compute RMSE and R2 on test data\n",
        "rmse = evaluator_rmse.evaluate(gbt_predictions)\n",
        "r2 = evaluator_r2.evaluate(gbt_predictions)\n",
        "\n",
        "print(f\"Root Mean Squared Error (RMSE) on test data = {rmse}\")\n",
        "print(f\"R2 on test data = {r2}\")"
      ],
      "metadata": {
        "colab": {
          "base_uri": "https://localhost:8080/"
        },
        "id": "NbYX3ERnZoLs",
        "outputId": "abed283e-ad86-4e9c-e0a8-61eadabc4391"
      },
      "execution_count": 115,
      "outputs": [
        {
          "output_type": "stream",
          "name": "stdout",
          "text": [
            "Root Mean Squared Error (RMSE) on test data = 51.88169074914222\n",
            "R2 on test data = -0.0011504279889904545\n"
          ]
        }
      ]
    },
    {
      "cell_type": "markdown",
      "source": [
        "Added word_count and hour as columns.\n",
        "Tested linear regression, random forest regression and gradient boosted regression models with word_count as feature and score as target. Results were very poor (r2 of 0)."
      ],
      "metadata": {
        "id": "R8yATjGEdZcX"
      }
    },
    {
      "cell_type": "code",
      "source": [
        "from pyspark.sql.functions import  date_format, split, size, hour\n",
        "\n",
        "# Tokenize the \"body\" column and count the words\n",
        "df = df.withColumn(\"word_count\", size(split(col(\"body\"), \" \")))\n",
        "\n",
        "df = df.withColumn('time_only', date_format('created_datetime', 'HH:mm:ss'))\n",
        "\n",
        "df = df.withColumn(\"hour\", hour(\"time_only\"))\n",
        "\n",
        "df.show(5)"
      ],
      "metadata": {
        "colab": {
          "base_uri": "https://localhost:8080/"
        },
        "id": "Nd74DnDhacwA",
        "outputId": "36345786-de19-4aa9-e195-a17d3285e400"
      },
      "execution_count": 116,
      "outputs": [
        {
          "output_type": "stream",
          "name": "stdout",
          "text": [
            "+-----------+--------------------+---------+-----+-------------------+----------+----------+---------+----+\n",
            "|created_utc|                body|sentiment|score|   created_datetime|      date|word_count|time_only|hour|\n",
            "+-----------+--------------------+---------+-----+-------------------+----------+----------+---------+----+\n",
            "| 1661990368|Yeah but what the...|   0.5719|    2|2022-08-31 23:59:28|2022-08-31|        53| 23:59:28|  23|\n",
            "| 1661990340|Any comparison of...|  -0.9877|    2|2022-08-31 23:59:00|2022-08-31|       242| 23:59:00|  23|\n",
            "| 1661990327|I'm honestly wait...|  -0.1143|    1|2022-08-31 23:58:47|2022-08-31|        68| 23:58:47|  23|\n",
            "| 1661990278|Not just Sacramen...|      0.0|    4|2022-08-31 23:57:58|2022-08-31|        18| 23:57:58|  23|\n",
            "| 1661990206|I think climate c...|   0.6634|    1|2022-08-31 23:56:46|2022-08-31|        78| 23:56:46|  23|\n",
            "+-----------+--------------------+---------+-----+-------------------+----------+----------+---------+----+\n",
            "only showing top 5 rows\n",
            "\n"
          ]
        }
      ]
    },
    {
      "cell_type": "code",
      "source": [
        "# Vector Assembler to create a feature vector\n",
        "vector_assembler = VectorAssembler(inputCols=[\"word_count\"], outputCol=\"features\")\n",
        "word_count_df = vector_assembler.transform(df)\n",
        "\n",
        "# Split the data into training and testing sets\n",
        "(training_data, test_data) = word_count_df.randomSplit([0.8, 0.2], seed=1234)\n",
        "\n",
        "# Create a Linear Regression model\n",
        "lr = LinearRegression(featuresCol=\"features\", labelCol=\"score\")\n",
        "\n",
        "# Fit the model to the training data\n",
        "lr_model = lr.fit(training_data)\n",
        "\n",
        "# Make predictions on the test data\n",
        "predictions = lr_model.transform(test_data)\n",
        "\n",
        "# Evaluate the model\n",
        "evaluator = RegressionEvaluator(labelCol=\"score\", predictionCol=\"prediction\", metricName=\"rmse\")\n",
        "rmse = evaluator.evaluate(predictions)\n",
        "evaluator = RegressionEvaluator(labelCol=\"score\", predictionCol=\"prediction\", metricName=\"r2\")\n",
        "r2 = evaluator.evaluate(predictions)\n",
        "print(\"Root Mean Squared Error (RMSE) on test data = %g\" % rmse)\n",
        "print(\"R2 on test data = %g\" % r2)"
      ],
      "metadata": {
        "colab": {
          "base_uri": "https://localhost:8080/"
        },
        "id": "9nLrT-NQau0j",
        "outputId": "94046f7d-4fea-4a49-ba0b-9d2f0f9a8e6f"
      },
      "execution_count": 117,
      "outputs": [
        {
          "output_type": "stream",
          "name": "stdout",
          "text": [
            "Root Mean Squared Error (RMSE) on test data = 18.107\n",
            "R2 on test data = -0.0207073\n"
          ]
        }
      ]
    },
    {
      "cell_type": "code",
      "source": [
        "# Random Forest Regressor model\n",
        "rf = RandomForestRegressor(featuresCol='features', labelCol='score')\n",
        "\n",
        "# Fit the model to the training data\n",
        "rf_model = rf.fit(training_data)\n",
        "\n",
        "# Make predictions on the test data\n",
        "rf_predictions = rf_model.transform(test_data)\n",
        "\n",
        "# Evaluate the model using RMSE and R2\n",
        "evaluator_rmse = RegressionEvaluator(labelCol=\"score\", predictionCol=\"prediction\", metricName=\"rmse\")\n",
        "evaluator_r2 = RegressionEvaluator(labelCol=\"score\", predictionCol=\"prediction\", metricName=\"r2\")\n",
        "\n",
        "# Compute RMSE and R2 on test data\n",
        "rmse = evaluator_rmse.evaluate(rf_predictions)\n",
        "r2 = evaluator_r2.evaluate(rf_predictions)\n",
        "\n",
        "print(f\"Root Mean Squared Error (RMSE) on test data = {rmse}\")\n",
        "print(f\"R2 on test data = {r2}\")"
      ],
      "metadata": {
        "colab": {
          "base_uri": "https://localhost:8080/"
        },
        "id": "1Pqp0SNcbCsb",
        "outputId": "af440580-9a5a-4893-87f2-b6ca2ddfd336"
      },
      "execution_count": 118,
      "outputs": [
        {
          "output_type": "stream",
          "name": "stdout",
          "text": [
            "Root Mean Squared Error (RMSE) on test data = 20.578491740284488\n",
            "R2 on test data = -0.31836495967128964\n"
          ]
        }
      ]
    },
    {
      "cell_type": "code",
      "source": [
        "# Gradient Boosted Tree model\n",
        "gbt = GBTRegressor(featuresCol='features', labelCol='score')\n",
        "\n",
        "# Fit the model to the training data\n",
        "gbt_model = gbt.fit(training_data)\n",
        "\n",
        "# Make predictions on the test data\n",
        "gbt_predictions = gbt_model.transform(test_data)\n",
        "\n",
        "# Evaluate the model using RMSE and R2\n",
        "evaluator_rmse = RegressionEvaluator(labelCol=\"score\", predictionCol=\"prediction\", metricName=\"rmse\")\n",
        "evaluator_r2 = RegressionEvaluator(labelCol=\"score\", predictionCol=\"prediction\", metricName=\"r2\")\n",
        "\n",
        "# Compute RMSE and R2 on test data\n",
        "rmse = evaluator_rmse.evaluate(gbt_predictions)\n",
        "r2 = evaluator_r2.evaluate(gbt_predictions)\n",
        "\n",
        "print(f\"Root Mean Squared Error (RMSE) on test data = {rmse}\")\n",
        "print(f\"R2 on test data = {r2}\")"
      ],
      "metadata": {
        "colab": {
          "base_uri": "https://localhost:8080/"
        },
        "id": "3NYP6aV9bLHW",
        "outputId": "c86e5c78-4065-481d-c790-ea70c88893b7"
      },
      "execution_count": 119,
      "outputs": [
        {
          "output_type": "stream",
          "name": "stdout",
          "text": [
            "Root Mean Squared Error (RMSE) on test data = 20.63146583857626\n",
            "R2 on test data = -0.32516128735864047\n"
          ]
        }
      ]
    },
    {
      "cell_type": "markdown",
      "source": [
        "Tested linear regression, random forest regression and gradient boosted regression models with hour as feature and score as target. Results were very poor (r2 of 0)."
      ],
      "metadata": {
        "id": "Zg8IB7nFdo9p"
      }
    },
    {
      "cell_type": "code",
      "source": [
        "# Vector Assembler to create a feature vector\n",
        "vector_assembler = VectorAssembler(inputCols=[\"hour\"], outputCol=\"features\")\n",
        "hour_df = vector_assembler.transform(df)\n",
        "\n",
        "# Split the data into training and testing sets\n",
        "(training_data, test_data) = hour_df.randomSplit([0.8, 0.2], seed=1234)\n",
        "\n",
        "# Create a Linear Regression model\n",
        "lr = LinearRegression(featuresCol=\"features\", labelCol=\"score\")\n",
        "\n",
        "# Fit the model to the training data\n",
        "lr_model = lr.fit(training_data)\n",
        "\n",
        "# Make predictions on the test data\n",
        "predictions = lr_model.transform(test_data)\n",
        "\n",
        "# Evaluate the model\n",
        "evaluator = RegressionEvaluator(labelCol=\"score\", predictionCol=\"prediction\", metricName=\"rmse\")\n",
        "rmse = evaluator.evaluate(predictions)\n",
        "evaluator = RegressionEvaluator(labelCol=\"score\", predictionCol=\"prediction\", metricName=\"r2\")\n",
        "r2 = evaluator.evaluate(predictions)\n",
        "print(\"Root Mean Squared Error (RMSE) on test data = %g\" % rmse)\n",
        "print(\"R2 on test data = %g\" % r2)"
      ],
      "metadata": {
        "colab": {
          "base_uri": "https://localhost:8080/"
        },
        "id": "Rb3OGLY7dwbQ",
        "outputId": "9398f9f6-64ee-455e-c0d8-e0d6c1a78f63"
      },
      "execution_count": 120,
      "outputs": [
        {
          "output_type": "stream",
          "name": "stdout",
          "text": [
            "Root Mean Squared Error (RMSE) on test data = 18.23\n",
            "R2 on test data = -0.0346212\n"
          ]
        }
      ]
    },
    {
      "cell_type": "code",
      "source": [
        "# Random Forest Regressor model\n",
        "rf = RandomForestRegressor(featuresCol='features', labelCol='score')\n",
        "\n",
        "# Fit the model to the training data\n",
        "rf_model = rf.fit(training_data)\n",
        "\n",
        "# Make predictions on the test data\n",
        "rf_predictions = rf_model.transform(test_data)\n",
        "\n",
        "# Evaluate the model using RMSE and R2\n",
        "evaluator_rmse = RegressionEvaluator(labelCol=\"score\", predictionCol=\"prediction\", metricName=\"rmse\")\n",
        "evaluator_r2 = RegressionEvaluator(labelCol=\"score\", predictionCol=\"prediction\", metricName=\"r2\")\n",
        "\n",
        "# Compute RMSE and R2 on test data\n",
        "rmse = evaluator_rmse.evaluate(rf_predictions)\n",
        "r2 = evaluator_r2.evaluate(rf_predictions)\n",
        "\n",
        "print(f\"Root Mean Squared Error (RMSE) on test data = {rmse}\")\n",
        "print(f\"R2 on test data = {r2}\")"
      ],
      "metadata": {
        "colab": {
          "base_uri": "https://localhost:8080/"
        },
        "id": "5Er00QuXd5lX",
        "outputId": "314992a1-3b36-4ac1-ef97-3f627fdaaa0f"
      },
      "execution_count": 121,
      "outputs": [
        {
          "output_type": "stream",
          "name": "stdout",
          "text": [
            "Root Mean Squared Error (RMSE) on test data = 18.65694296719914\n",
            "R2 on test data = -0.08365125361380854\n"
          ]
        }
      ]
    },
    {
      "cell_type": "markdown",
      "source": [
        "Attempted NLP below. Trained a NLP pipeline to get get embedding values for documents and averaged the into a single value called mean value to use as a feature. Tested linear regression, random forest regression and gradient boosted regression models with mean_value as feature and score as target. Results were very poor (r2 of 0)."
      ],
      "metadata": {
        "id": "NQbj71gxeARH"
      }
    },
    {
      "cell_type": "code",
      "source": [
        "df = df.withColumnRenamed(\"body\", \"text\")\n",
        "df.show(20)"
      ],
      "metadata": {
        "colab": {
          "base_uri": "https://localhost:8080/"
        },
        "id": "-ViCYLQkHUb8",
        "outputId": "19290ee0-f248-402c-d150-6ef5799ea528"
      },
      "execution_count": 122,
      "outputs": [
        {
          "output_type": "stream",
          "name": "stdout",
          "text": [
            "+-----------+--------------------+---------+-----+-------------------+----------+----------+---------+----+\n",
            "|created_utc|                text|sentiment|score|   created_datetime|      date|word_count|time_only|hour|\n",
            "+-----------+--------------------+---------+-----+-------------------+----------+----------+---------+----+\n",
            "| 1661990368|Yeah but what the...|   0.5719|    2|2022-08-31 23:59:28|2022-08-31|        53| 23:59:28|  23|\n",
            "| 1661990340|Any comparison of...|  -0.9877|    2|2022-08-31 23:59:00|2022-08-31|       242| 23:59:00|  23|\n",
            "| 1661990327|I'm honestly wait...|  -0.1143|    1|2022-08-31 23:58:47|2022-08-31|        68| 23:58:47|  23|\n",
            "| 1661990278|Not just Sacramen...|      0.0|    4|2022-08-31 23:57:58|2022-08-31|        18| 23:57:58|  23|\n",
            "| 1661990206|I think climate c...|   0.6634|    1|2022-08-31 23:56:46|2022-08-31|        78| 23:56:46|  23|\n",
            "| 1661990120|Naaa how could an...|     0.25|    1|2022-08-31 23:55:20|2022-08-31|        16| 23:55:20|  23|\n",
            "| 1661990114|Can i suggest may...|   0.9779|    2|2022-08-31 23:55:14|2022-08-31|       142| 23:55:14|  23|\n",
            "| 1661990065|They need to chan...|    0.469|    2|2022-08-31 23:54:25|2022-08-31|        88| 23:54:25|  23|\n",
            "| 1661990023|Just thought I wo...|   0.7367|    3|2022-08-31 23:53:43|2022-08-31|       203| 23:53:43|  23|\n",
            "| 1661990019|Blaming environme...|   0.3094|    4|2022-08-31 23:53:39|2022-08-31|        74| 23:53:39|  23|\n",
            "| 1661989961|That a big part o...|   0.8937|    2|2022-08-31 23:52:41|2022-08-31|        63| 23:52:41|  23|\n",
            "| 1661989947|Sorry for the lon...|  -0.9441|    6|2022-08-31 23:52:27|2022-08-31|       605| 23:52:27|  23|\n",
            "| 1661989877|From California, ...|  -0.8048|    9|2022-08-31 23:51:17|2022-08-31|       272| 23:51:17|  23|\n",
            "| 1661989862|It doesn’t matter...|  -0.8238|    1|2022-08-31 23:51:02|2022-08-31|       132| 23:51:02|  23|\n",
            "| 1661989846|I posted this on ...|   0.9969|    5|2022-08-31 23:50:46|2022-08-31|      1012| 23:50:46|  23|\n",
            "| 1661989788|Or idk, climate c...|  -0.5661|    5|2022-08-31 23:49:48|2022-08-31|        44| 23:49:48|  23|\n",
            "| 1661989785|&gt;Not climate c...|      0.0|    9|2022-08-31 23:49:45|2022-08-31|        46| 23:49:45|  23|\n",
            "| 1661989773|A bad scenario wi...|  -0.8439|    4|2022-08-31 23:49:33|2022-08-31|        90| 23:49:33|  23|\n",
            "| 1661989701|You have no real ...|  -0.7975|    4|2022-08-31 23:48:21|2022-08-31|       363| 23:48:21|  23|\n",
            "| 1661989695|Climate change is...|  -0.3453|    3|2022-08-31 23:48:15|2022-08-31|        72| 23:48:15|  23|\n",
            "+-----------+--------------------+---------+-----+-------------------+----------+----------+---------+----+\n",
            "only showing top 20 rows\n",
            "\n"
          ]
        }
      ]
    },
    {
      "cell_type": "code",
      "source": [
        "from pyspark.ml import Pipeline\n",
        "from sparknlp.base import *\n",
        "from sparknlp.annotator import *\n",
        "\n",
        "documentAssembler = DocumentAssembler() \\\n",
        ".setInputCol(\"text\") \\\n",
        ".setOutputCol(\"document\")\n",
        "\n",
        "tokenizer = Tokenizer() \\\n",
        ".setInputCols(\"document\") \\\n",
        ".setOutputCol(\"token\")\n",
        "\n",
        "stopWords = StopWordsCleaner.pretrained() \\\n",
        "    .setInputCols([\"token\"]) \\\n",
        "    .setOutputCol(\"cleanTokens\")\n",
        "\n",
        "embedding = WordEmbeddingsModel.pretrained()\\\n",
        "    .setInputCols([\"document\", \"cleanTokens\"]) \\\n",
        "    .setOutputCol(\"embeddings\")\n",
        "\n",
        "embeddingsSentence = SentenceEmbeddings() \\\n",
        "    .setInputCols([\"document\", \"embeddings\"]) \\\n",
        "    .setOutputCol(\"sentence_embeddings\") \\\n",
        "    .setPoolingStrategy(\"AVERAGE\")\n",
        "\n",
        "embeddingsFinisher = EmbeddingsFinisher() \\\n",
        "    .setInputCols([\"sentence_embeddings\"]) \\\n",
        "    .setOutputCols(\"finished_embeddings\") \\\n",
        "    .setOutputAsVector(False) \\\n",
        "    .setCleanAnnotations(True)\n",
        "\n",
        "pipeline = Pipeline().setStages([documentAssembler, tokenizer, stopWords, embedding, embeddingsSentence, embeddingsFinisher]).fit(df)"
      ],
      "metadata": {
        "colab": {
          "base_uri": "https://localhost:8080/"
        },
        "id": "UoQpCiQJFhhK",
        "outputId": "23dc3f6a-196a-40b8-dae7-df91a9db2f5f"
      },
      "execution_count": 123,
      "outputs": [
        {
          "output_type": "stream",
          "name": "stdout",
          "text": [
            "stopwords_en download started this may take some time.\n",
            "Approximate size to download 2.9 KB\n",
            "[OK!]\n",
            "glove_100d download started this may take some time.\n",
            "Approximate size to download 145.3 MB\n",
            "[OK!]\n"
          ]
        }
      ]
    },
    {
      "cell_type": "code",
      "source": [
        "result = pipeline.transform(df)"
      ],
      "metadata": {
        "id": "VTozidR1fId7"
      },
      "execution_count": 124,
      "outputs": []
    },
    {
      "cell_type": "code",
      "source": [
        "result.show(5)"
      ],
      "metadata": {
        "colab": {
          "base_uri": "https://localhost:8080/"
        },
        "id": "-7s_nlg9RO5Q",
        "outputId": "056a49c8-1932-4a72-e690-f966f1e5a0d0"
      },
      "execution_count": 125,
      "outputs": [
        {
          "output_type": "stream",
          "name": "stdout",
          "text": [
            "+-----------+--------------------+---------+-----+-------------------+----------+----------+---------+----+--------------------+\n",
            "|created_utc|                text|sentiment|score|   created_datetime|      date|word_count|time_only|hour| finished_embeddings|\n",
            "+-----------+--------------------+---------+-----+-------------------+----------+----------+---------+----+--------------------+\n",
            "| 1661990368|Yeah but what the...|   0.5719|    2|2022-08-31 23:59:28|2022-08-31|        53| 23:59:28|  23|[[-0.09582342, 0....|\n",
            "| 1661990340|Any comparison of...|  -0.9877|    2|2022-08-31 23:59:00|2022-08-31|       242| 23:59:00|  23|[[-0.20790112, 0....|\n",
            "| 1661990327|I'm honestly wait...|  -0.1143|    1|2022-08-31 23:58:47|2022-08-31|        68| 23:58:47|  23|[[-0.11997872, 0....|\n",
            "| 1661990278|Not just Sacramen...|      0.0|    4|2022-08-31 23:57:58|2022-08-31|        18| 23:57:58|  23|[[-0.12475941, 0....|\n",
            "| 1661990206|I think climate c...|   0.6634|    1|2022-08-31 23:56:46|2022-08-31|        78| 23:56:46|  23|[[-0.20102279, 0....|\n",
            "+-----------+--------------------+---------+-----+-------------------+----------+----------+---------+----+--------------------+\n",
            "only showing top 5 rows\n",
            "\n"
          ]
        }
      ]
    },
    {
      "cell_type": "code",
      "source": [
        "from pyspark.sql.functions import explode\n",
        "\n",
        "exploded_df = result.select(\"score\", explode(\"finished_embeddings\").alias(\"exploded_values\"))\n",
        "exploded_df.show(5)"
      ],
      "metadata": {
        "colab": {
          "base_uri": "https://localhost:8080/"
        },
        "id": "w2UnEu4IkBM4",
        "outputId": "3dd02027-2970-407a-c48b-454ff1960383"
      },
      "execution_count": 126,
      "outputs": [
        {
          "output_type": "stream",
          "name": "stdout",
          "text": [
            "+-----+--------------------+\n",
            "|score|     exploded_values|\n",
            "+-----+--------------------+\n",
            "|    2|[-0.09582342, 0.1...|\n",
            "|    2|[-0.20790112, 0.3...|\n",
            "|    1|[-0.11997872, 0.2...|\n",
            "|    4|[-0.12475941, 0.1...|\n",
            "|    1|[-0.20102279, 0.1...|\n",
            "+-----+--------------------+\n",
            "only showing top 5 rows\n",
            "\n"
          ]
        }
      ]
    },
    {
      "cell_type": "code",
      "source": [
        "from pyspark.sql.functions import col, udf\n",
        "from pyspark.sql.types import FloatType, ArrayType\n",
        "\n",
        "# Define a UDF to calculate the mean of an array\n",
        "def calculate_mean(array):\n",
        "    return float(sum(array) / len(array))\n",
        "\n",
        "# Register the UDF\n",
        "mean_udf = udf(calculate_mean, FloatType())\n",
        "\n",
        "# Use withColumn to add a new column with the mean value\n",
        "result_df = exploded_df.withColumn(\"mean_value\", mean_udf(col(\"exploded_values\")))\n",
        "\n",
        "# Show the result\n",
        "result_df.show()"
      ],
      "metadata": {
        "colab": {
          "base_uri": "https://localhost:8080/"
        },
        "id": "oYz4ibptWMTV",
        "outputId": "aee3f679-8153-44a2-d42a-860529dfb178"
      },
      "execution_count": 127,
      "outputs": [
        {
          "output_type": "stream",
          "name": "stdout",
          "text": [
            "+-----+--------------------+------------+\n",
            "|score|     exploded_values|  mean_value|\n",
            "+-----+--------------------+------------+\n",
            "|    2|[-0.09582342, 0.1...|-0.015499057|\n",
            "|    2|[-0.20790112, 0.3...|-0.010763373|\n",
            "|    1|[-0.11997872, 0.2...| -0.03411759|\n",
            "|    4|[-0.12475941, 0.1...|-0.048009343|\n",
            "|    1|[-0.20102279, 0.1...|-0.015153618|\n",
            "|    1|[-0.14186335, 0.0...|-0.044525065|\n",
            "|    2|[0.026436167, 0.2...| -0.03495606|\n",
            "|    2|[0.044403348, 0.2...|-0.037703075|\n",
            "|    3|[-0.26011565, 0.1...|-0.023646705|\n",
            "|    4|[-0.15710258, 0.3...|-0.029719327|\n",
            "|    2|[0.054771744, 0.1...| -0.02009017|\n",
            "|    6|[0.028553477, 0.2...|-0.021028062|\n",
            "|    9|[-0.15107563, 0.2...|-0.014143329|\n",
            "|    1|[-0.05951702, 0.1...|-0.030367365|\n",
            "|    5|[-0.07641856, 0.1...| -0.02141611|\n",
            "|    5|[-0.095410675, 0....|-0.028634444|\n",
            "|    9|[-0.15260033, 0.1...|-0.033587657|\n",
            "|    4|[-0.17434004, 0.3...|-0.024662444|\n",
            "|    4|[-0.021459669, 0....|-0.029583476|\n",
            "|    3|[-0.16735928, 0.1...|-0.026951225|\n",
            "+-----+--------------------+------------+\n",
            "only showing top 20 rows\n",
            "\n"
          ]
        }
      ]
    },
    {
      "cell_type": "code",
      "source": [
        "result_df.drop(\"exploded_values\")\n",
        "\n",
        "# Assembler to convert features into a vector\n",
        "assembler = VectorAssembler(inputCols=['mean_value'], outputCol='features')\n",
        "assembled_result_df = assembler.transform(result_df)\n",
        "\n",
        "(training_data, test_data) = assembled_result_df.randomSplit([0.8, 0.2], seed=1234)\n",
        "\n",
        "# Linear Regression model\n",
        "lr = LinearRegression(featuresCol='features', labelCol='score')\n",
        "\n",
        "# Fit the model to the training data\n",
        "lr_model = lr.fit(training_data)\n",
        "\n",
        "# Make predictions on the test data\n",
        "predictions = lr_model.transform(test_data)\n",
        "\n",
        "# Evaluate the model using RMSE and R2\n",
        "evaluator_rmse = RegressionEvaluator(labelCol=\"score\", predictionCol=\"prediction\", metricName=\"rmse\")\n",
        "evaluator_r2 = RegressionEvaluator(labelCol=\"score\", predictionCol=\"prediction\", metricName=\"r2\")\n",
        "\n",
        "# Compute RMSE and R2 on test data\n",
        "rmse = evaluator_rmse.evaluate(predictions)\n",
        "r2 = evaluator_r2.evaluate(predictions)\n",
        "\n",
        "print(f\"Root Mean Squared Error (RMSE) on test data = {rmse}\")\n",
        "print(f\"R2 on test data = {r2}\")"
      ],
      "metadata": {
        "colab": {
          "base_uri": "https://localhost:8080/"
        },
        "id": "ABxBQI4uXD87",
        "outputId": "71b914ba-3797-4b5b-c55c-3ba99eb41913"
      },
      "execution_count": 128,
      "outputs": [
        {
          "output_type": "stream",
          "name": "stdout",
          "text": [
            "Root Mean Squared Error (RMSE) on test data = 19.461655438241053\n",
            "R2 on test data = -0.0764616065230519\n"
          ]
        }
      ]
    },
    {
      "cell_type": "code",
      "source": [
        "from pyspark.ml.regression import RandomForestRegressor\n",
        "\n",
        "# Linear Regression model\n",
        "rf = RandomForestRegressor(featuresCol='features', labelCol='score')\n",
        "\n",
        "# Fit the model to the training data\n",
        "rf_model = rf.fit(training_data)\n",
        "\n",
        "# Make predictions on the test data\n",
        "rf_predictions = rf_model.transform(test_data)\n",
        "\n",
        "# Evaluate the model using RMSE and R2\n",
        "evaluator_rmse = RegressionEvaluator(labelCol=\"score\", predictionCol=\"prediction\", metricName=\"rmse\")\n",
        "evaluator_r2 = RegressionEvaluator(labelCol=\"score\", predictionCol=\"prediction\", metricName=\"r2\")\n",
        "\n",
        "# Compute RMSE and R2 on test data\n",
        "rmse = evaluator_rmse.evaluate(rf_predictions)\n",
        "r2 = evaluator_r2.evaluate(rf_predictions)\n",
        "\n",
        "print(f\"Root Mean Squared Error (RMSE) on test data = {rmse}\")\n",
        "print(f\"R2 on test data = {r2}\")"
      ],
      "metadata": {
        "colab": {
          "base_uri": "https://localhost:8080/"
        },
        "id": "iqQoX4VIYGR1",
        "outputId": "c965d916-b802-402f-a2a2-affcbaf150ce"
      },
      "execution_count": 129,
      "outputs": [
        {
          "output_type": "stream",
          "name": "stdout",
          "text": [
            "Root Mean Squared Error (RMSE) on test data = 20.65469376688765\n",
            "R2 on test data = -0.21248536972218335\n"
          ]
        }
      ]
    },
    {
      "cell_type": "markdown",
      "source": [
        "Since features we have and extracted have no correlation to Score, next steps would be to perform encoding on other text based features such as subredit.name and also look at other ways to use embedding values besides just the average (dig deeper into NLP)."
      ],
      "metadata": {
        "id": "2jA6Jv_4i3pG"
      }
    }
  ]
}